{
  "nbformat": 4,
  "nbformat_minor": 0,
  "metadata": {
    "colab": {
      "name": "tf_intro.ipynb",
      "provenance": [],
      "authorship_tag": "ABX9TyN0E4yfiFKmiV3ktVPXMT5B",
      "include_colab_link": true
    },
    "kernelspec": {
      "name": "python3",
      "display_name": "Python 3"
    },
    "language_info": {
      "name": "python"
    }
  },
  "cells": [
    {
      "cell_type": "markdown",
      "metadata": {
        "id": "view-in-github",
        "colab_type": "text"
      },
      "source": [
        "<a href=\"https://colab.research.google.com/github/Ibraheem101/tensorflow/blob/main/tf_intro.ipynb\" target=\"_parent\"><img src=\"https://colab.research.google.com/assets/colab-badge.svg\" alt=\"Open In Colab\"/></a>"
      ]
    },
    {
      "cell_type": "code",
      "execution_count": 62,
      "metadata": {
        "id": "A89lfsw_7KCy"
      },
      "outputs": [],
      "source": [
        "import numpy as np\n",
        "import pandas as pd\n",
        "import matplotlib.pyplot as plt\n",
        "import seaborn as sns\n",
        "import tensorflow as tf\n",
        "from tensorflow import keras"
      ]
    },
    {
      "cell_type": "code",
      "source": [
        "print(tf.__version__)"
      ],
      "metadata": {
        "colab": {
          "base_uri": "https://localhost:8080/"
        },
        "id": "4Wn7Hnbc7wHR",
        "outputId": "0ab32a87-dd43-4660-9f60-6379f1a948db"
      },
      "execution_count": 63,
      "outputs": [
        {
          "output_type": "stream",
          "name": "stdout",
          "text": [
            "2.8.2\n"
          ]
        }
      ]
    },
    {
      "cell_type": "code",
      "source": [
        "# Creating tensors with tf.constant()\n",
        "scalar = tf.constant(5)\n",
        "scalar"
      ],
      "metadata": {
        "colab": {
          "base_uri": "https://localhost:8080/"
        },
        "id": "Z5_Lgf9bZE0Q",
        "outputId": "9d87d3ad-259f-40ea-8578-98735db5b5a7"
      },
      "execution_count": 64,
      "outputs": [
        {
          "output_type": "execute_result",
          "data": {
            "text/plain": [
              "<tf.Tensor: shape=(), dtype=int32, numpy=5>"
            ]
          },
          "metadata": {},
          "execution_count": 64
        }
      ]
    },
    {
      "cell_type": "code",
      "source": [
        "scalar.ndim"
      ],
      "metadata": {
        "colab": {
          "base_uri": "https://localhost:8080/"
        },
        "id": "Oc8U6eWhdSGK",
        "outputId": "8c2b67f1-2b4f-4eb4-d165-5cfc12edd272"
      },
      "execution_count": 65,
      "outputs": [
        {
          "output_type": "execute_result",
          "data": {
            "text/plain": [
              "0"
            ]
          },
          "metadata": {},
          "execution_count": 65
        }
      ]
    },
    {
      "cell_type": "code",
      "source": [
        "vector = tf.constant([3, 7])\n",
        "vector"
      ],
      "metadata": {
        "colab": {
          "base_uri": "https://localhost:8080/"
        },
        "id": "lFfI500-a9YB",
        "outputId": "266cc316-b780-47e9-e293-507b7d371dd0"
      },
      "execution_count": 66,
      "outputs": [
        {
          "output_type": "execute_result",
          "data": {
            "text/plain": [
              "<tf.Tensor: shape=(2,), dtype=int32, numpy=array([3, 7], dtype=int32)>"
            ]
          },
          "metadata": {},
          "execution_count": 66
        }
      ]
    },
    {
      "cell_type": "code",
      "source": [
        "vector.ndim"
      ],
      "metadata": {
        "colab": {
          "base_uri": "https://localhost:8080/"
        },
        "id": "pKTMUvzIdQmy",
        "outputId": "4b8ddce4-8fa4-4981-a768-d7e945ddd6ef"
      },
      "execution_count": 67,
      "outputs": [
        {
          "output_type": "execute_result",
          "data": {
            "text/plain": [
              "1"
            ]
          },
          "metadata": {},
          "execution_count": 67
        }
      ]
    },
    {
      "cell_type": "code",
      "source": [
        "matrix = tf.constant([[2, 4],\n",
        "                      [7,5]])\n",
        "matrix"
      ],
      "metadata": {
        "colab": {
          "base_uri": "https://localhost:8080/"
        },
        "id": "eeIiEG0jdWXE",
        "outputId": "454cbba8-18ef-4c1b-d60e-27769555b3b4"
      },
      "execution_count": 68,
      "outputs": [
        {
          "output_type": "execute_result",
          "data": {
            "text/plain": [
              "<tf.Tensor: shape=(2, 2), dtype=int32, numpy=\n",
              "array([[2, 4],\n",
              "       [7, 5]], dtype=int32)>"
            ]
          },
          "metadata": {},
          "execution_count": 68
        }
      ]
    },
    {
      "cell_type": "code",
      "source": [
        "matrix.ndim"
      ],
      "metadata": {
        "colab": {
          "base_uri": "https://localhost:8080/"
        },
        "id": "Y2FHqcLzd6_r",
        "outputId": "deca3fac-9fa7-4d5b-e5ec-b669e0b8a7da"
      },
      "execution_count": 69,
      "outputs": [
        {
          "output_type": "execute_result",
          "data": {
            "text/plain": [
              "2"
            ]
          },
          "metadata": {},
          "execution_count": 69
        }
      ]
    },
    {
      "cell_type": "code",
      "source": [
        "another_matrix = tf.constant([[4., 5],\n",
        "                              [6, 7],\n",
        "                              [8, 9]], dtype = tf.float16)"
      ],
      "metadata": {
        "id": "xLW3P8IId9y6"
      },
      "execution_count": 70,
      "outputs": []
    },
    {
      "cell_type": "code",
      "source": [
        "another_matrix"
      ],
      "metadata": {
        "colab": {
          "base_uri": "https://localhost:8080/"
        },
        "id": "CuhwHNQ2gIdR",
        "outputId": "1043110a-6779-4d27-afc4-cd9b1e868f38"
      },
      "execution_count": 71,
      "outputs": [
        {
          "output_type": "execute_result",
          "data": {
            "text/plain": [
              "<tf.Tensor: shape=(3, 2), dtype=float16, numpy=\n",
              "array([[4., 5.],\n",
              "       [6., 7.],\n",
              "       [8., 9.]], dtype=float16)>"
            ]
          },
          "metadata": {},
          "execution_count": 71
        }
      ]
    },
    {
      "cell_type": "code",
      "source": [
        "another_matrix.ndim"
      ],
      "metadata": {
        "colab": {
          "base_uri": "https://localhost:8080/"
        },
        "id": "FZXOP5KJgJH8",
        "outputId": "282deaf2-93b5-4022-e59a-80911aa42e77"
      },
      "execution_count": 72,
      "outputs": [
        {
          "output_type": "execute_result",
          "data": {
            "text/plain": [
              "2"
            ]
          },
          "metadata": {},
          "execution_count": 72
        }
      ]
    },
    {
      "cell_type": "code",
      "source": [
        "random1 = tf.random.Generator.from_seed(28)\n",
        "random1 = random1.uniform(shape = (3, 2))\n",
        "random1"
      ],
      "metadata": {
        "id": "NTbFS-kuhWEr",
        "colab": {
          "base_uri": "https://localhost:8080/"
        },
        "outputId": "df378fbb-9164-4b10-d789-cec86b3ccf95"
      },
      "execution_count": 73,
      "outputs": [
        {
          "output_type": "execute_result",
          "data": {
            "text/plain": [
              "<tf.Tensor: shape=(3, 2), dtype=float32, numpy=\n",
              "array([[0.1337657 , 0.95617914],\n",
              "       [0.6482675 , 0.55495536],\n",
              "       [0.02367401, 0.74084485]], dtype=float32)>"
            ]
          },
          "metadata": {},
          "execution_count": 73
        }
      ]
    },
    {
      "cell_type": "code",
      "source": [
        "random2 = tf.random.Generator.from_seed(28)\n",
        "random2 = random2.uniform(shape = (3, 2))\n",
        "random2"
      ],
      "metadata": {
        "colab": {
          "base_uri": "https://localhost:8080/"
        },
        "id": "pgKT2DXMZ9DE",
        "outputId": "84ba8934-e79a-4db4-c14e-051bf007f6e5"
      },
      "execution_count": 74,
      "outputs": [
        {
          "output_type": "execute_result",
          "data": {
            "text/plain": [
              "<tf.Tensor: shape=(3, 2), dtype=float32, numpy=\n",
              "array([[0.1337657 , 0.95617914],\n",
              "       [0.6482675 , 0.55495536],\n",
              "       [0.02367401, 0.74084485]], dtype=float32)>"
            ]
          },
          "metadata": {},
          "execution_count": 74
        }
      ]
    },
    {
      "cell_type": "code",
      "source": [
        "tf.random.set_seed(2)\n",
        "tf.random.shuffle(random1) #Randomly shuffles along first dimension"
      ],
      "metadata": {
        "colab": {
          "base_uri": "https://localhost:8080/"
        },
        "id": "sRc1gyw_aWdb",
        "outputId": "ea7dae5a-f737-4d6e-e967-2cc151927c75"
      },
      "execution_count": 75,
      "outputs": [
        {
          "output_type": "execute_result",
          "data": {
            "text/plain": [
              "<tf.Tensor: shape=(3, 2), dtype=float32, numpy=\n",
              "array([[0.02367401, 0.74084485],\n",
              "       [0.6482675 , 0.55495536],\n",
              "       [0.1337657 , 0.95617914]], dtype=float32)>"
            ]
          },
          "metadata": {},
          "execution_count": 75
        }
      ]
    },
    {
      "cell_type": "markdown",
      "source": [
        ""
      ],
      "metadata": {
        "id": "50aW55GNPqs7"
      }
    },
    {
      "cell_type": "code",
      "source": [
        "tf.ones((3, 4), tf.int32)"
      ],
      "metadata": {
        "colab": {
          "base_uri": "https://localhost:8080/"
        },
        "id": "NWDao1FxdrBW",
        "outputId": "fed526c2-e3ff-4b7c-b336-02de6507d7df"
      },
      "execution_count": 76,
      "outputs": [
        {
          "output_type": "execute_result",
          "data": {
            "text/plain": [
              "<tf.Tensor: shape=(3, 4), dtype=int32, numpy=\n",
              "array([[1, 1, 1, 1],\n",
              "       [1, 1, 1, 1],\n",
              "       [1, 1, 1, 1]], dtype=int32)>"
            ]
          },
          "metadata": {},
          "execution_count": 76
        }
      ]
    },
    {
      "cell_type": "code",
      "source": [
        "arr = np.arange(24)\n",
        "arr"
      ],
      "metadata": {
        "colab": {
          "base_uri": "https://localhost:8080/"
        },
        "id": "QGsMIwi6P2I4",
        "outputId": "56c0ce09-4662-4a1f-ab90-00452cba6784"
      },
      "execution_count": 77,
      "outputs": [
        {
          "output_type": "execute_result",
          "data": {
            "text/plain": [
              "array([ 0,  1,  2,  3,  4,  5,  6,  7,  8,  9, 10, 11, 12, 13, 14, 15, 16,\n",
              "       17, 18, 19, 20, 21, 22, 23])"
            ]
          },
          "metadata": {},
          "execution_count": 77
        }
      ]
    },
    {
      "cell_type": "code",
      "source": [
        "tensor = tf.constant(arr, shape = (6,4))"
      ],
      "metadata": {
        "id": "DlK1CvFgQIHK"
      },
      "execution_count": 78,
      "outputs": []
    },
    {
      "cell_type": "code",
      "source": [
        "tensor[:2, :]"
      ],
      "metadata": {
        "colab": {
          "base_uri": "https://localhost:8080/"
        },
        "id": "ZMJriApRQYxm",
        "outputId": "b2f4738d-962a-4bd7-b47e-b79d953ecb7b"
      },
      "execution_count": 79,
      "outputs": [
        {
          "output_type": "execute_result",
          "data": {
            "text/plain": [
              "<tf.Tensor: shape=(2, 4), dtype=int64, numpy=\n",
              "array([[0, 1, 2, 3],\n",
              "       [4, 5, 6, 7]])>"
            ]
          },
          "metadata": {},
          "execution_count": 79
        }
      ]
    },
    {
      "cell_type": "code",
      "source": [
        "tf.add(tensor, 19)"
      ],
      "metadata": {
        "colab": {
          "base_uri": "https://localhost:8080/"
        },
        "id": "9Dg6KymQRlLk",
        "outputId": "bdc5994d-34b6-450c-ab89-cc656d5a25e2"
      },
      "execution_count": 80,
      "outputs": [
        {
          "output_type": "execute_result",
          "data": {
            "text/plain": [
              "<tf.Tensor: shape=(6, 4), dtype=int64, numpy=\n",
              "array([[19, 20, 21, 22],\n",
              "       [23, 24, 25, 26],\n",
              "       [27, 28, 29, 30],\n",
              "       [31, 32, 33, 34],\n",
              "       [35, 36, 37, 38],\n",
              "       [39, 40, 41, 42]])>"
            ]
          },
          "metadata": {},
          "execution_count": 80
        }
      ]
    },
    {
      "cell_type": "code",
      "source": [
        "tf.divide(tensor, 3)"
      ],
      "metadata": {
        "colab": {
          "base_uri": "https://localhost:8080/"
        },
        "id": "VogsUmYXWff4",
        "outputId": "317dc7fe-dc5e-44ce-f61c-1003311a5c38"
      },
      "execution_count": 81,
      "outputs": [
        {
          "output_type": "execute_result",
          "data": {
            "text/plain": [
              "<tf.Tensor: shape=(6, 4), dtype=float64, numpy=\n",
              "array([[0.        , 0.33333333, 0.66666667, 1.        ],\n",
              "       [1.33333333, 1.66666667, 2.        , 2.33333333],\n",
              "       [2.66666667, 3.        , 3.33333333, 3.66666667],\n",
              "       [4.        , 4.33333333, 4.66666667, 5.        ],\n",
              "       [5.33333333, 5.66666667, 6.        , 6.33333333],\n",
              "       [6.66666667, 7.        , 7.33333333, 7.66666667]])>"
            ]
          },
          "metadata": {},
          "execution_count": 81
        }
      ]
    },
    {
      "cell_type": "code",
      "source": [
        "tf.subtract(tensor, 4)"
      ],
      "metadata": {
        "colab": {
          "base_uri": "https://localhost:8080/"
        },
        "id": "wZIWp-yqWjmT",
        "outputId": "7d64827a-2430-4181-ce7b-0af3386f66fe"
      },
      "execution_count": 82,
      "outputs": [
        {
          "output_type": "execute_result",
          "data": {
            "text/plain": [
              "<tf.Tensor: shape=(6, 4), dtype=int64, numpy=\n",
              "array([[-4, -3, -2, -1],\n",
              "       [ 0,  1,  2,  3],\n",
              "       [ 4,  5,  6,  7],\n",
              "       [ 8,  9, 10, 11],\n",
              "       [12, 13, 14, 15],\n",
              "       [16, 17, 18, 19]])>"
            ]
          },
          "metadata": {},
          "execution_count": 82
        }
      ]
    },
    {
      "cell_type": "code",
      "source": [
        "tf.random.set_seed(2)\n",
        "tensor2 = tf.random.uniform(shape = (4, 5))\n",
        "tensor2"
      ],
      "metadata": {
        "colab": {
          "base_uri": "https://localhost:8080/"
        },
        "id": "nHjW_ZQ0Wr1L",
        "outputId": "ab34810d-3c97-41c8-85ff-b07f62054071"
      },
      "execution_count": 83,
      "outputs": [
        {
          "output_type": "execute_result",
          "data": {
            "text/plain": [
              "<tf.Tensor: shape=(4, 5), dtype=float32, numpy=\n",
              "array([[0.14690244, 0.46425676, 0.22489977, 0.35288846, 0.9857408 ],\n",
              "       [0.99910235, 0.5648881 , 0.16375077, 0.9890269 , 0.681414  ],\n",
              "       [0.9361813 , 0.76035094, 0.8557707 , 0.42701852, 0.3893944 ],\n",
              "       [0.69739926, 0.6512991 , 0.08290601, 0.3726778 , 0.06093955]],\n",
              "      dtype=float32)>"
            ]
          },
          "metadata": {},
          "execution_count": 83
        }
      ]
    },
    {
      "cell_type": "code",
      "source": [
        "tensor = tf.cast(tensor, tf.float32)\n",
        "tensor"
      ],
      "metadata": {
        "colab": {
          "base_uri": "https://localhost:8080/"
        },
        "id": "Cc96y5grnbJ8",
        "outputId": "632a12c8-79f1-49d4-af1f-2d9bdf6bbaa0"
      },
      "execution_count": 84,
      "outputs": [
        {
          "output_type": "execute_result",
          "data": {
            "text/plain": [
              "<tf.Tensor: shape=(6, 4), dtype=float32, numpy=\n",
              "array([[ 0.,  1.,  2.,  3.],\n",
              "       [ 4.,  5.,  6.,  7.],\n",
              "       [ 8.,  9., 10., 11.],\n",
              "       [12., 13., 14., 15.],\n",
              "       [16., 17., 18., 19.],\n",
              "       [20., 21., 22., 23.]], dtype=float32)>"
            ]
          },
          "metadata": {},
          "execution_count": 84
        }
      ]
    },
    {
      "cell_type": "code",
      "source": [
        "tf.matmul(tensor, tensor2)"
      ],
      "metadata": {
        "colab": {
          "base_uri": "https://localhost:8080/"
        },
        "id": "evQxKplfmagN",
        "outputId": "181347d5-e5f0-44bd-81ed-e61439edad2c"
      },
      "execution_count": 85,
      "outputs": [
        {
          "output_type": "execute_result",
          "data": {
            "text/plain": [
              "<tf.Tensor: shape=(6, 5), dtype=float32, numpy=\n",
              "array([[ 4.9636626,  4.0394874,  2.12401  ,  2.9610975,  1.6430215],\n",
              "       [16.082005 , 13.802668 ,  7.4333196, 11.527544 , 10.112976 ],\n",
              "       [27.200346 , 23.565847 , 12.742628 , 20.09399  , 18.582932 ],\n",
              "       [38.318687 , 33.329025 , 18.051937 , 28.660439 , 27.052887 ],\n",
              "       [49.437027 , 43.09221  , 23.361248 , 37.226887 , 35.522842 ],\n",
              "       [60.55537  , 52.855385 , 28.670555 , 45.793335 , 43.992798 ]],\n",
              "      dtype=float32)>"
            ]
          },
          "metadata": {},
          "execution_count": 85
        }
      ]
    },
    {
      "cell_type": "code",
      "source": [
        "tf.matmul(tensor, tf.reshape(tensor, shape = (4,6)))"
      ],
      "metadata": {
        "colab": {
          "base_uri": "https://localhost:8080/"
        },
        "id": "UfI7bpn0nRl5",
        "outputId": "0505c4e9-001d-4073-b83d-12c902167410"
      },
      "execution_count": 86,
      "outputs": [
        {
          "output_type": "execute_result",
          "data": {
            "text/plain": [
              "<tf.Tensor: shape=(6, 6), dtype=float32, numpy=\n",
              "array([[  84.,   90.,   96.,  102.,  108.,  114.],\n",
              "       [ 228.,  250.,  272.,  294.,  316.,  338.],\n",
              "       [ 372.,  410.,  448.,  486.,  524.,  562.],\n",
              "       [ 516.,  570.,  624.,  678.,  732.,  786.],\n",
              "       [ 660.,  730.,  800.,  870.,  940., 1010.],\n",
              "       [ 804.,  890.,  976., 1062., 1148., 1234.]], dtype=float32)>"
            ]
          },
          "metadata": {},
          "execution_count": 86
        }
      ]
    },
    {
      "cell_type": "code",
      "source": [
        "tf.reshape(tensor, shape = (4,6)) == tf.transpose(tensor)"
      ],
      "metadata": {
        "colab": {
          "base_uri": "https://localhost:8080/"
        },
        "id": "-2LRP6NGpn_n",
        "outputId": "de079e97-e6bb-4251-8555-92b367dbef62"
      },
      "execution_count": 87,
      "outputs": [
        {
          "output_type": "execute_result",
          "data": {
            "text/plain": [
              "<tf.Tensor: shape=(4, 6), dtype=bool, numpy=\n",
              "array([[ True, False, False, False, False, False],\n",
              "       [False, False, False, False, False, False],\n",
              "       [False, False, False, False, False, False],\n",
              "       [False, False, False, False, False,  True]])>"
            ]
          },
          "metadata": {},
          "execution_count": 87
        }
      ]
    },
    {
      "cell_type": "code",
      "source": [
        "a = tf.constant([[2,3,4]], dtype = tf.float64)\n",
        "import time\n",
        "start = time.time()\n",
        "tf.matmul(a, tf.transpose(a))\n",
        "stop = time.time()\n",
        "stop - start"
      ],
      "metadata": {
        "colab": {
          "base_uri": "https://localhost:8080/"
        },
        "id": "Mn4L1IXEqLaZ",
        "outputId": "f9d0ba43-d873-4447-cff2-e9e3ccc5b893"
      },
      "execution_count": 88,
      "outputs": [
        {
          "output_type": "execute_result",
          "data": {
            "text/plain": [
              "0.0031316280364990234"
            ]
          },
          "metadata": {},
          "execution_count": 88
        }
      ]
    },
    {
      "cell_type": "code",
      "source": [
        "a = tf.constant([[2,3,4]], dtype = tf.float16)\n",
        "import time\n",
        "start = time.time()\n",
        "tf.matmul(a, tf.transpose(a))\n",
        "stop = time.time()\n",
        "stop - start"
      ],
      "metadata": {
        "colab": {
          "base_uri": "https://localhost:8080/"
        },
        "id": "ImbOEKNdtNFI",
        "outputId": "cd1dd87c-c473-4fa5-e1d3-04c31dfa732f"
      },
      "execution_count": 89,
      "outputs": [
        {
          "output_type": "execute_result",
          "data": {
            "text/plain": [
              "0.0026082992553710938"
            ]
          },
          "metadata": {},
          "execution_count": 89
        }
      ]
    },
    {
      "cell_type": "code",
      "source": [
        "a = tf.range(1, 50)\n",
        "a"
      ],
      "metadata": {
        "colab": {
          "base_uri": "https://localhost:8080/"
        },
        "id": "HjGGbep8uckc",
        "outputId": "48102343-c487-46df-d6fd-0aec61689087"
      },
      "execution_count": 92,
      "outputs": [
        {
          "output_type": "execute_result",
          "data": {
            "text/plain": [
              "<tf.Tensor: shape=(49,), dtype=int32, numpy=\n",
              "array([ 1,  2,  3,  4,  5,  6,  7,  8,  9, 10, 11, 12, 13, 14, 15, 16, 17,\n",
              "       18, 19, 20, 21, 22, 23, 24, 25, 26, 27, 28, 29, 30, 31, 32, 33, 34,\n",
              "       35, 36, 37, 38, 39, 40, 41, 42, 43, 44, 45, 46, 47, 48, 49],\n",
              "      dtype=int32)>"
            ]
          },
          "metadata": {},
          "execution_count": 92
        }
      ]
    },
    {
      "cell_type": "code",
      "source": [
        "print(tf.math.reduce_variance(tensor))"
      ],
      "metadata": {
        "colab": {
          "base_uri": "https://localhost:8080/"
        },
        "id": "8bgPDPClLH1n",
        "outputId": "b685fdcc-269c-4617-f099-d8801f3f97b6"
      },
      "execution_count": 100,
      "outputs": [
        {
          "output_type": "stream",
          "name": "stdout",
          "text": [
            "tf.Tensor(47.916668, shape=(), dtype=float32)\n"
          ]
        }
      ]
    },
    {
      "cell_type": "markdown",
      "source": [
        "We can use the tensorflow_probability method to find the variance"
      ],
      "metadata": {
        "id": "ZkA8dFmKN47e"
      }
    },
    {
      "cell_type": "code",
      "source": [
        "import tensorflow_probability as tfp\n",
        "tfp.stats.variance(a)"
      ],
      "metadata": {
        "colab": {
          "base_uri": "https://localhost:8080/"
        },
        "id": "EC5AfMN7L-9e",
        "outputId": "3c1644fe-dd40-44f7-cdc6-9b0cdff6f3cc"
      },
      "execution_count": 101,
      "outputs": [
        {
          "output_type": "execute_result",
          "data": {
            "text/plain": [
              "<tf.Tensor: shape=(), dtype=int32, numpy=200>"
            ]
          },
          "metadata": {},
          "execution_count": 101
        }
      ]
    },
    {
      "cell_type": "code",
      "source": [
        "rr = np.array([1,  2,  3,  4,  5,  6,  7,  8,  9, 10, 11, 12, 13, 14, 15, 16, 17,\n",
        "       18, 19, 20, 21, 22, 23, 24, 25, 26, 27, 28, 29, 30, 31, 32, 33, 34,\n",
        "       35, 36, 37, 38, 39, 40, 41, 42, 43, 44, 45, 46, 47, 48, 49])\n",
        "rr.std()"
      ],
      "metadata": {
        "colab": {
          "base_uri": "https://localhost:8080/"
        },
        "id": "3Lu2l7T4Nb2J",
        "outputId": "bf5529fe-992c-4295-8c16-395c0e4d0846"
      },
      "execution_count": 103,
      "outputs": [
        {
          "output_type": "execute_result",
          "data": {
            "text/plain": [
              "14.142135623730951"
            ]
          },
          "metadata": {},
          "execution_count": 103
        }
      ]
    },
    {
      "cell_type": "code",
      "source": [
        "tfp.stats.quantiles(a, num_quantiles = 2)"
      ],
      "metadata": {
        "colab": {
          "base_uri": "https://localhost:8080/"
        },
        "id": "-V79blRxN0-f",
        "outputId": "9b815839-9208-4a1f-bf7b-2fbec12b7d80"
      },
      "execution_count": 114,
      "outputs": [
        {
          "output_type": "execute_result",
          "data": {
            "text/plain": [
              "<tf.Tensor: shape=(3,), dtype=int32, numpy=array([ 1, 25, 49], dtype=int32)>"
            ]
          },
          "metadata": {},
          "execution_count": 114
        }
      ]
    },
    {
      "cell_type": "code",
      "source": [
        "tf.math.reduce_std(tf.cast(a, dtype=tf.float32))"
      ],
      "metadata": {
        "colab": {
          "base_uri": "https://localhost:8080/"
        },
        "id": "XDNitOWOOJmC",
        "outputId": "33292b67-5fdb-4d24-d633-7804b278e7a5"
      },
      "execution_count": 117,
      "outputs": [
        {
          "output_type": "execute_result",
          "data": {
            "text/plain": [
              "<tf.Tensor: shape=(), dtype=float32, numpy=14.142136>"
            ]
          },
          "metadata": {},
          "execution_count": 117
        }
      ]
    },
    {
      "cell_type": "markdown",
      "source": [
        "Positional indices"
      ],
      "metadata": {
        "id": "lT5htSGIPNcS"
      }
    },
    {
      "cell_type": "code",
      "source": [
        "tf.argmax(a)"
      ],
      "metadata": {
        "colab": {
          "base_uri": "https://localhost:8080/"
        },
        "id": "4QH8xd82TTjw",
        "outputId": "ba92b019-e143-4226-9c98-549df75af050"
      },
      "execution_count": 118,
      "outputs": [
        {
          "output_type": "execute_result",
          "data": {
            "text/plain": [
              "<tf.Tensor: shape=(), dtype=int64, numpy=48>"
            ]
          },
          "metadata": {},
          "execution_count": 118
        }
      ]
    },
    {
      "cell_type": "code",
      "source": [
        "tf.argmin(a)"
      ],
      "metadata": {
        "colab": {
          "base_uri": "https://localhost:8080/"
        },
        "id": "B0UVSVzLTXfR",
        "outputId": "2d77c817-2d09-432c-bd06-2f4fd0ccac61"
      },
      "execution_count": 119,
      "outputs": [
        {
          "output_type": "execute_result",
          "data": {
            "text/plain": [
              "<tf.Tensor: shape=(), dtype=int64, numpy=0>"
            ]
          },
          "metadata": {},
          "execution_count": 119
        }
      ]
    },
    {
      "cell_type": "code",
      "source": [
        "a[tf.argmin(a)]"
      ],
      "metadata": {
        "colab": {
          "base_uri": "https://localhost:8080/"
        },
        "id": "6xUbw4lYTfrd",
        "outputId": "d3a7656b-cf4c-4190-8791-7bc879be7aba"
      },
      "execution_count": 120,
      "outputs": [
        {
          "output_type": "execute_result",
          "data": {
            "text/plain": [
              "<tf.Tensor: shape=(), dtype=int32, numpy=1>"
            ]
          },
          "metadata": {},
          "execution_count": 120
        }
      ]
    },
    {
      "cell_type": "markdown",
      "source": [
        "Squeezing a tensor removes excess single dimensions"
      ],
      "metadata": {
        "id": "kSD9r0m4Tj9F"
      }
    },
    {
      "cell_type": "code",
      "source": [
        "b = tf.random.normal(shape = (1, 1, 1, 1, 1, 7, 30))\n",
        "b"
      ],
      "metadata": {
        "colab": {
          "base_uri": "https://localhost:8080/"
        },
        "id": "eWZbwWGiUGzI",
        "outputId": "49f4ff66-84da-4c15-f11b-c7ae939ed257"
      },
      "execution_count": 125,
      "outputs": [
        {
          "output_type": "execute_result",
          "data": {
            "text/plain": [
              "<tf.Tensor: shape=(1, 1, 1, 1, 1, 7, 30), dtype=float32, numpy=\n",
              "array([[[[[[[-0.34978473,  1.680089  ,  0.64659107, -0.29098207,\n",
              "             -0.12802337,  0.518896  ,  1.1973747 , -0.05563127,\n",
              "              0.03263566, -0.9991939 ,  0.374411  , -1.8285949 ,\n",
              "              0.8633099 , -0.79411805,  0.080853  ,  0.24617971,\n",
              "             -0.68470347,  0.41752756,  0.79680616, -1.2343662 ,\n",
              "             -0.9258844 ,  0.3451366 , -0.09576283, -0.47167897,\n",
              "             -0.35761774,  0.07558876, -0.68658787, -0.6012635 ,\n",
              "             -0.4107167 ,  0.7793978 ],\n",
              "            [ 1.0165774 , -1.5505939 , -0.02059542, -0.5029889 ,\n",
              "              2.1898649 ,  0.2484269 ,  0.2483165 , -0.86587507,\n",
              "              1.1253623 , -0.6572555 ,  0.6485831 ,  1.4811958 ,\n",
              "             -0.2484313 ,  0.22006355, -0.89698315,  0.25377867,\n",
              "              0.05105684, -0.10148685, -1.7639831 , -1.042224  ,\n",
              "              0.3798997 , -0.67544043,  0.4922789 , -0.40091836,\n",
              "             -2.5551975 , -0.9653216 ,  0.02713482, -0.14000995,\n",
              "             -2.1879094 ,  1.1107372 ],\n",
              "            [ 1.0484066 ,  0.4895454 ,  0.18910104, -0.71228963,\n",
              "              0.53790736,  1.0794011 , -0.6214063 ,  0.9379    ,\n",
              "              0.4080649 ,  0.8600075 ,  2.8666599 , -0.0384969 ,\n",
              "             -0.9082765 ,  1.7858042 ,  0.20497176,  0.8690872 ,\n",
              "             -1.1520383 , -0.36993703,  0.21556458,  0.25012305,\n",
              "              0.3776934 , -0.43636793, -1.0101935 ,  0.3471873 ,\n",
              "              1.938004  , -0.5255159 , -0.00988225, -0.50429773,\n",
              "              1.6299722 , -0.43857524],\n",
              "            [ 1.2329104 , -1.6801083 , -1.3819618 , -0.27595893,\n",
              "              0.6938308 , -0.130273  , -0.19768797,  0.7593122 ,\n",
              "             -0.28656805,  1.1936799 , -0.70029193,  1.8769727 ,\n",
              "             -0.6229739 ,  0.47719374,  0.13213006, -0.44851092,\n",
              "             -0.6675353 , -0.06718264,  0.11390896, -0.52532655,\n",
              "             -0.04905533,  0.70413023, -1.6051234 ,  0.6735331 ,\n",
              "             -0.28356126, -0.1496801 , -0.45701858,  0.88543934,\n",
              "              0.7344599 ,  0.0094428 ],\n",
              "            [-0.41903788,  1.2716033 , -0.5610432 ,  0.27208185,\n",
              "              0.08028722, -0.15775907, -0.84053785, -0.3040928 ,\n",
              "              1.3481884 ,  0.02683126, -0.5731276 ,  0.92506677,\n",
              "             -0.4990014 , -0.5464103 , -0.18552057,  0.05776856,\n",
              "             -0.5445054 , -0.4645231 , -0.00957773, -0.20898509,\n",
              "              0.27137023, -0.47689578,  1.1574231 , -0.8893011 ,\n",
              "             -0.56527036,  0.8420601 ,  2.104294  ,  0.54313403,\n",
              "             -0.1185004 ,  0.16543658],\n",
              "            [-0.10378222,  0.09544151,  0.07869807,  0.47230646,\n",
              "             -0.9192932 , -0.40751535, -1.3135389 , -0.2554104 ,\n",
              "              1.7302445 ,  0.7240002 ,  0.8089632 ,  0.15033069,\n",
              "             -1.6180502 ,  1.7909606 ,  0.6871377 ,  0.6836161 ,\n",
              "              0.2744457 , -0.48206386, -0.60540694,  0.6783243 ,\n",
              "             -0.5836433 ,  0.655493  ,  1.0448761 , -1.5382364 ,\n",
              "              1.179643  , -0.9529837 , -0.14608064, -0.5355167 ,\n",
              "             -0.454509  , -0.00721977],\n",
              "            [ 0.8541545 ,  0.30030867, -0.02040286,  0.9162027 ,\n",
              "             -0.05874676, -0.7693621 , -0.8115872 ,  0.75227195,\n",
              "             -2.1719108 , -0.04358796, -0.55198693, -1.2236222 ,\n",
              "             -0.30144125, -0.378638  , -0.11327824,  1.0223795 ,\n",
              "              0.09298963,  0.21400471,  1.2894851 ,  0.48807055,\n",
              "             -1.7934769 ,  0.6249159 ,  0.8081276 , -0.07444584,\n",
              "             -0.08873921,  0.55099785, -1.1605176 , -0.7317794 ,\n",
              "             -0.52126753,  1.3840255 ]]]]]]], dtype=float32)>"
            ]
          },
          "metadata": {},
          "execution_count": 125
        }
      ]
    },
    {
      "cell_type": "code",
      "source": [
        "b_squeezed = tf.squeeze(b)\n",
        "b_squeezed"
      ],
      "metadata": {
        "colab": {
          "base_uri": "https://localhost:8080/"
        },
        "id": "h_-CvDZBUP5u",
        "outputId": "d77633a1-3c0d-4a74-e242-16283465ec54"
      },
      "execution_count": 126,
      "outputs": [
        {
          "output_type": "execute_result",
          "data": {
            "text/plain": [
              "<tf.Tensor: shape=(7, 30), dtype=float32, numpy=\n",
              "array([[-0.34978473,  1.680089  ,  0.64659107, -0.29098207, -0.12802337,\n",
              "         0.518896  ,  1.1973747 , -0.05563127,  0.03263566, -0.9991939 ,\n",
              "         0.374411  , -1.8285949 ,  0.8633099 , -0.79411805,  0.080853  ,\n",
              "         0.24617971, -0.68470347,  0.41752756,  0.79680616, -1.2343662 ,\n",
              "        -0.9258844 ,  0.3451366 , -0.09576283, -0.47167897, -0.35761774,\n",
              "         0.07558876, -0.68658787, -0.6012635 , -0.4107167 ,  0.7793978 ],\n",
              "       [ 1.0165774 , -1.5505939 , -0.02059542, -0.5029889 ,  2.1898649 ,\n",
              "         0.2484269 ,  0.2483165 , -0.86587507,  1.1253623 , -0.6572555 ,\n",
              "         0.6485831 ,  1.4811958 , -0.2484313 ,  0.22006355, -0.89698315,\n",
              "         0.25377867,  0.05105684, -0.10148685, -1.7639831 , -1.042224  ,\n",
              "         0.3798997 , -0.67544043,  0.4922789 , -0.40091836, -2.5551975 ,\n",
              "        -0.9653216 ,  0.02713482, -0.14000995, -2.1879094 ,  1.1107372 ],\n",
              "       [ 1.0484066 ,  0.4895454 ,  0.18910104, -0.71228963,  0.53790736,\n",
              "         1.0794011 , -0.6214063 ,  0.9379    ,  0.4080649 ,  0.8600075 ,\n",
              "         2.8666599 , -0.0384969 , -0.9082765 ,  1.7858042 ,  0.20497176,\n",
              "         0.8690872 , -1.1520383 , -0.36993703,  0.21556458,  0.25012305,\n",
              "         0.3776934 , -0.43636793, -1.0101935 ,  0.3471873 ,  1.938004  ,\n",
              "        -0.5255159 , -0.00988225, -0.50429773,  1.6299722 , -0.43857524],\n",
              "       [ 1.2329104 , -1.6801083 , -1.3819618 , -0.27595893,  0.6938308 ,\n",
              "        -0.130273  , -0.19768797,  0.7593122 , -0.28656805,  1.1936799 ,\n",
              "        -0.70029193,  1.8769727 , -0.6229739 ,  0.47719374,  0.13213006,\n",
              "        -0.44851092, -0.6675353 , -0.06718264,  0.11390896, -0.52532655,\n",
              "        -0.04905533,  0.70413023, -1.6051234 ,  0.6735331 , -0.28356126,\n",
              "        -0.1496801 , -0.45701858,  0.88543934,  0.7344599 ,  0.0094428 ],\n",
              "       [-0.41903788,  1.2716033 , -0.5610432 ,  0.27208185,  0.08028722,\n",
              "        -0.15775907, -0.84053785, -0.3040928 ,  1.3481884 ,  0.02683126,\n",
              "        -0.5731276 ,  0.92506677, -0.4990014 , -0.5464103 , -0.18552057,\n",
              "         0.05776856, -0.5445054 , -0.4645231 , -0.00957773, -0.20898509,\n",
              "         0.27137023, -0.47689578,  1.1574231 , -0.8893011 , -0.56527036,\n",
              "         0.8420601 ,  2.104294  ,  0.54313403, -0.1185004 ,  0.16543658],\n",
              "       [-0.10378222,  0.09544151,  0.07869807,  0.47230646, -0.9192932 ,\n",
              "        -0.40751535, -1.3135389 , -0.2554104 ,  1.7302445 ,  0.7240002 ,\n",
              "         0.8089632 ,  0.15033069, -1.6180502 ,  1.7909606 ,  0.6871377 ,\n",
              "         0.6836161 ,  0.2744457 , -0.48206386, -0.60540694,  0.6783243 ,\n",
              "        -0.5836433 ,  0.655493  ,  1.0448761 , -1.5382364 ,  1.179643  ,\n",
              "        -0.9529837 , -0.14608064, -0.5355167 , -0.454509  , -0.00721977],\n",
              "       [ 0.8541545 ,  0.30030867, -0.02040286,  0.9162027 , -0.05874676,\n",
              "        -0.7693621 , -0.8115872 ,  0.75227195, -2.1719108 , -0.04358796,\n",
              "        -0.55198693, -1.2236222 , -0.30144125, -0.378638  , -0.11327824,\n",
              "         1.0223795 ,  0.09298963,  0.21400471,  1.2894851 ,  0.48807055,\n",
              "        -1.7934769 ,  0.6249159 ,  0.8081276 , -0.07444584, -0.08873921,\n",
              "         0.55099785, -1.1605176 , -0.7317794 , -0.52126753,  1.3840255 ]],\n",
              "      dtype=float32)>"
            ]
          },
          "metadata": {},
          "execution_count": 126
        }
      ]
    },
    {
      "cell_type": "markdown",
      "source": [
        "Onehot encoding tensors"
      ],
      "metadata": {
        "id": "JVGf2_dSZXMJ"
      }
    },
    {
      "cell_type": "code",
      "source": [
        "some_list = [0,2,3,4]\n",
        "tf.one_hot(some_list, depth = 5, on_value = 'True', off_value = 'False')"
      ],
      "metadata": {
        "colab": {
          "base_uri": "https://localhost:8080/"
        },
        "id": "dnpqrvG7UcEM",
        "outputId": "50fdfb0a-83b8-4521-be19-cf3022577f6b"
      },
      "execution_count": 132,
      "outputs": [
        {
          "output_type": "execute_result",
          "data": {
            "text/plain": [
              "<tf.Tensor: shape=(4, 5), dtype=string, numpy=\n",
              "array([[b'True', b'False', b'False', b'False', b'False'],\n",
              "       [b'False', b'False', b'True', b'False', b'False'],\n",
              "       [b'False', b'False', b'False', b'True', b'False'],\n",
              "       [b'False', b'False', b'False', b'False', b'True']], dtype=object)>"
            ]
          },
          "metadata": {},
          "execution_count": 132
        }
      ]
    }
  ]
}